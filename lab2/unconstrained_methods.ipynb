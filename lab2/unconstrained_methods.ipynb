{
 "cells": [
  {
   "cell_type": "code",
   "execution_count": 1,
   "metadata": {},
   "outputs": [],
   "source": [
    "import math"
   ]
  },
  {
   "cell_type": "markdown",
   "metadata": {},
   "source": [
    "## I. Exhaustive Search, Dichotomy and Golden Section"
   ]
  },
  {
   "cell_type": "code",
   "execution_count": 5,
   "metadata": {},
   "outputs": [],
   "source": [
    "def frange(start, stop, step):\n",
    "    # Range for float numbers\n",
    "    while start < stop:\n",
    "        yield start\n",
    "        start += step"
   ]
  },
  {
   "cell_type": "code",
   "execution_count": 65,
   "metadata": {},
   "outputs": [],
   "source": [
    "def func1(x):\n",
    "    func1.counter +=1\n",
    "    return pow(x, 3)\n",
    "\n",
    "def func2(x):\n",
    "    func2.counter +=1\n",
    "    return abs(x-0.2)\n",
    "\n",
    "def func3(x):\n",
    "    func3.counter +=1\n",
    "    if 0.01 <= x <= 1:\n",
    "        return x*math.sin(1/x)\n",
    "    else:\n",
    "        print(\"x is not in range [0.1; 1]\")\n",
    "        return 0\n"
   ]
  },
  {
   "cell_type": "code",
   "execution_count": 67,
   "metadata": {},
   "outputs": [
    {
     "name": "stdout",
     "output_type": "stream",
     "text": [
      "x is not in range [0.1; 1]\n",
      "991\n",
      "991\n",
      "Minimum f(x) = -0.2172246125808345\n",
      "Minimum x = 0.22300000000000017\n"
     ]
    }
   ],
   "source": [
    "# Exhaustive Search\n",
    "\n",
    "a = 0.01\n",
    "b = 1\n",
    "eps = 0.001\n",
    "\n",
    "fmin = 0\n",
    "xmin = 0\n",
    "iterations = 0\n",
    "func3.counter = 0\n",
    "for x in frange(a, b+eps, eps):\n",
    "    current_f = func3(x)\n",
    "    iterations +=1\n",
    "    if x == a:\n",
    "        fmin = current_f\n",
    "        xmin = x\n",
    "    if current_f < fmin:\n",
    "        fmin = current_f\n",
    "        xmin = x\n",
    "print(func3.counter)\n",
    "print(iterations)\n",
    "print(\"Minimum f(x) =\", fmin)\n",
    "print(\"Minimum x =\", xmin)"
   ]
  },
  {
   "cell_type": "code",
   "execution_count": 68,
   "metadata": {},
   "outputs": [
    {
     "name": "stdout",
     "output_type": "stream",
     "text": [
      "x= 0.22221191406250002\n",
      "fmin= -0.2172286118926715\n",
      "iterations = 10\n"
     ]
    }
   ],
   "source": [
    "# Dichotomy (bisection method)\n",
    "def dichotomy(f, a, b, eps, c=1):\n",
    "    # c = 1, (min F(x))\n",
    "    # c = -1, (max F(x))\n",
    "    iterations = 0\n",
    "    while True:\n",
    "        iterations += 1\n",
    "        x = (a + b) / 2\n",
    "        f1 = f(x - eps)\n",
    "        f2 = f(x + eps)\n",
    "        \n",
    "        if (c * f1) < (c * f2):\n",
    "            b = x\n",
    "        else:\n",
    "            a = x\n",
    "        if (b - a) < eps:\n",
    "            break\n",
    "    x = (b + a) / 2\n",
    "    fmin = f(x)\n",
    "    print(\"x=\", x)\n",
    "    print(\"fmin=\", fmin)\n",
    "    print(\"iterations =\", iterations)\n",
    "    return\n",
    "\n",
    "\n",
    "a = 0\n",
    "b = 1\n",
    "eps = 0.001\n",
    "iterations = 0\n",
    "dichotomy(func3, 0.01, b, eps)"
   ]
  },
  {
   "cell_type": "code",
   "execution_count": 57,
   "metadata": {},
   "outputs": [
    {
     "name": "stdout",
     "output_type": "stream",
     "text": [
      "iterations = 15\n"
     ]
    },
    {
     "data": {
      "text/plain": [
       "0.20007331374358572"
      ]
     },
     "execution_count": 57,
     "metadata": {},
     "output_type": "execute_result"
    }
   ],
   "source": [
    "# Golden Section\n",
    "def goldenSection(f, a, b, eps, phi=(3-math.sqrt(5))/2, psi=(math.sqrt(5)-1)/2):\n",
    "    iterations = 0\n",
    "    x1 = a + phi*(b - a)\n",
    "    x2 = a + psi*(b - a)\n",
    "    fx1 = f(x1)\n",
    "    fx2 = f(x2)\n",
    "\n",
    "    while(abs(a-b) > eps and abs(a-b) > eps*abs(a+b)/2):\n",
    "        iterations +=1\n",
    "        if fx1 < fx2:\n",
    "            b = x2\n",
    "            x2 = x1\n",
    "            fx2 = fx1\n",
    "            x1 = a + psi*(x2 - a)\n",
    "            fx1 = f(x1)\n",
    "        else:\n",
    "            a = x1\n",
    "            x1 = x2\n",
    "            fx1 = fx2\n",
    "            x2 = b - psi*(b - x1)\n",
    "            fx2 = f(x2)\n",
    "\n",
    "    print(\"iterations =\", iterations)\n",
    "    return (x1 + x2) / 2\n",
    "\n",
    "\n",
    "a = 0\n",
    "b = 1\n",
    "eps = 0.001 \n",
    "goldenSection(func2, 0, b, eps)"
   ]
  },
  {
   "cell_type": "markdown",
   "metadata": {},
   "source": [
    "## II. Multidimensional Methods of exhaustive search, Gauss (coordinate descent), Nelder-Mead) in the tasks of unconstrained nonlinear optimization"
   ]
  },
  {
   "cell_type": "markdown",
   "metadata": {},
   "source": []
  },
  {
   "cell_type": "code",
   "execution_count": 14,
   "metadata": {},
   "outputs": [],
   "source": [
    "import random\n",
    "import numpy\n",
    "import scipy"
   ]
  },
  {
   "cell_type": "code",
   "execution_count": null,
   "metadata": {},
   "outputs": [],
   "source": [
    "alfa, beta = random.random(), random.random()\n",
    "x, y = [], []\n",
    "\n",
    "for k in range(0, 100+1):\n",
    "    x_k = k/100\n",
    "    y_k = alfa*x_k + beta + numpy.random.normal(0, 1)\n",
    "    x.append(x_k)\n",
    "    y.append(y_k)\n",
    "\n",
    "print(\"x[:10]:\", x[:10])\n",
    "print(\"y[:10]:\", y[:10])"
   ]
  },
  {
   "cell_type": "code",
   "execution_count": 30,
   "metadata": {},
   "outputs": [
    {
     "data": {
      "image/png": "[encoded data removed]",
      "text/plain": [
       "<Figure size 720x360 with 1 Axes>"
      ]
     },
     "metadata": {
      "needs_background": "light"
     },
     "output_type": "display_data"
    }
   ],
   "source": [
    "from cProfile import label\n",
    "from cmath import log\n",
    "import matplotlib.pyplot as plt\n",
    "\n",
    "plt.style.use('tableau-colorblind10')\n",
    "\n",
    "fig = plt.figure(figsize=(10,5))\n",
    "ax = fig.add_axes([1, 1, 1, 1])\n",
    "ax.set_ylabel('y')\n",
    "ax.set_xlabel('x')\n",
    "\n",
    "ax1 = ax.scatter(x, y, label=\"Noisy Data\")\n",
    "# ax2 = ax.plot(x_approx, y_approx, label=\"Linear approximant\")\n",
    "ax.legend(loc='upper right')\n",
    "\n",
    "plt.show()"
   ]
  },
  {
   "cell_type": "code",
   "execution_count": null,
   "metadata": {},
   "outputs": [],
   "source": []
  }
 ],
 "metadata": {
  "kernelspec": {
   "display_name": "Python 3.10.4 64-bit",
   "language": "python",
   "name": "python3"
  },
  "language_info": {
   "codemirror_mode": {
    "name": "ipython",
    "version": 3
   },
   "file_extension": ".py",
   "mimetype": "text/x-python",
   "name": "python",
   "nbconvert_exporter": "python",
   "pygments_lexer": "ipython3",
   "version": "3.10.4"
  },
  "orig_nbformat": 4,
  "vscode": {
   "interpreter": {
    "hash": "aee8b7b246df8f9039afb4144a1f6fd8d2ca17a180786b69acc140d282b71a49"
   }
  }
 },
 "nbformat": 4,
 "nbformat_minor": 2
}
