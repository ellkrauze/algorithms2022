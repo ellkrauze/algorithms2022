{
 "cells": [
  {
   "cell_type": "markdown",
   "metadata": {},
   "source": [
    "# Practical analysis of advanced algorithms"
   ]
  },
  {
   "cell_type": "markdown",
   "metadata": {},
   "source": [
    "**Goal**\n",
    "\n",
    "Practical analysis of advanced algorithms."
   ]
  },
  {
   "cell_type": "code",
   "execution_count": null,
   "metadata": {},
   "outputs": [
    {
     "ename": "",
     "evalue": "",
     "output_type": "error",
     "traceback": [
      "\u001b[1;31mRunning cells with 'Python 3.10.2 64-bit' requires ipykernel package.\n",
      "\u001b[1;31mRun the following command to install 'ipykernel' into the Python environment. \n",
      "\u001b[1;31mCommand: '/usr/local/bin/python3.10 -m pip install ipykernel -U --user --force-reinstall'"
     ]
    }
   ],
   "source": [
    "!/usr/local/bin/python3.10 -m pip install ipykernel -U --user --force-reinstall"
   ]
  },
  {
   "cell_type": "code",
   "execution_count": 74,
   "metadata": {},
   "outputs": [],
   "source": [
    "def findMaxCrossingSubarray(A, low, mid, high):\n",
    "    print(\"low: {}\\tmid: {}\\thigh: {}\".format(low, mid, high))\n",
    "    sum = 0\n",
    "    left_sum = float('-inf')\n",
    "    for i in range(mid, low-1, -1):\n",
    "        sum += A[i]\n",
    "        if sum > left_sum:\n",
    "            left_sum = sum\n",
    "    \n",
    "    right_sum = float('-inf')\n",
    "    sum = 0\n",
    "    for j in range(mid+1, high):\n",
    "        sum += A[j]\n",
    "        if sum > right_sum:\n",
    "            right_sum = sum\n",
    "\n",
    "    return max(left_sum + right_sum - A[mid], left_sum, right_sum)\n",
    "\n",
    "\n",
    "def findMaximumSubarray(A, low, high):\n",
    "    print(\"low: {}\\thigh: {}\".format(low, high))\n",
    "    # array consists of 1 element\n",
    "    if high == low:\n",
    "        return A[low]\n",
    "    # compute the index `mid` of the midpoint\n",
    "    # mid = (low+high) // 2\n",
    "    # return max(findMaximumSubarray(A, low, mid - 1),\n",
    "    #         findMaximumSubarray(A, mid + 1, high),\n",
    "    #         findMaxCrossingSubarray(A, low, mid, high))\n",
    "    else:\n",
    "        mid = (low+high) // 2\n",
    "        # recursively find maximum subarrays within the left and right subarrays\n",
    "        left_low, left_high, left_sum = findMaximumSubarray(A, low, mid)\n",
    "        right_low, right_high, right_sum = findMaximumSubarray(A, mid + 1, high)\n",
    "\n",
    "        # find a maximum subarray that crosses the midpoint\n",
    "        cross_low, cross_high, cross_sum = findMaxCrossingSubarray(A, low, mid, high)\n",
    "        \n",
    "        # check if the left subarray contains a subarray with the maximum sum\n",
    "        if left_sum >= right_sum and left_sum >=cross_sum:\n",
    "            return left_low, left_high, left_sum # return maximum subarray\n",
    "        # check if the right subarray contains a subarray with the maximum sum\n",
    "        elif right_sum >= left_sum and right_sum >= cross_sum:\n",
    "            return right_low, right_high, right_sum # return maximum subarray\n",
    "        else:\n",
    "            return cross_low, cross_high, cross_sum # a maximum subarray must cross the midpoint"
   ]
  },
  {
   "cell_type": "code",
   "execution_count": 75,
   "metadata": {},
   "outputs": [
    {
     "name": "stdout",
     "output_type": "stream",
     "text": [
      "[13, -3, -25, 20, -3, -16, -23, 18, 20, -7, 12, -5, -22, 15, -4, 7]\n",
      "low: 0\thigh: 15\n",
      "low: 0\thigh: 7\n",
      "low: 0\thigh: 3\n",
      "low: 0\thigh: 1\n",
      "low: 0\thigh: 0\n"
     ]
    },
    {
     "ename": "TypeError",
     "evalue": "cannot unpack non-iterable int object",
     "output_type": "error",
     "traceback": [
      "\u001b[0;31m---------------------------------------------------------------------------\u001b[0m",
      "\u001b[0;31mTypeError\u001b[0m                                 Traceback (most recent call last)",
      "\u001b[0;32m/tmp/ipykernel_33148/2582855275.py\u001b[0m in \u001b[0;36m<module>\u001b[0;34m\u001b[0m\n\u001b[1;32m      7\u001b[0m \u001b[0;34m\u001b[0m\u001b[0m\n\u001b[1;32m      8\u001b[0m \u001b[0mprint\u001b[0m\u001b[0;34m(\u001b[0m\u001b[0mA\u001b[0m\u001b[0;34m)\u001b[0m\u001b[0;34m\u001b[0m\u001b[0;34m\u001b[0m\u001b[0m\n\u001b[0;32m----> 9\u001b[0;31m \u001b[0mfindMaximumSubarray\u001b[0m\u001b[0;34m(\u001b[0m\u001b[0mA\u001b[0m\u001b[0;34m,\u001b[0m \u001b[0mlow\u001b[0m\u001b[0;34m,\u001b[0m \u001b[0mhigh\u001b[0m\u001b[0;34m)\u001b[0m\u001b[0;34m\u001b[0m\u001b[0;34m\u001b[0m\u001b[0m\n\u001b[0m",
      "\u001b[0;32m/tmp/ipykernel_33148/616503843.py\u001b[0m in \u001b[0;36mfindMaximumSubarray\u001b[0;34m(A, low, high)\u001b[0m\n\u001b[1;32m     31\u001b[0m         \u001b[0mmid\u001b[0m \u001b[0;34m=\u001b[0m \u001b[0;34m(\u001b[0m\u001b[0mlow\u001b[0m\u001b[0;34m+\u001b[0m\u001b[0mhigh\u001b[0m\u001b[0;34m)\u001b[0m \u001b[0;34m//\u001b[0m \u001b[0;36m2\u001b[0m\u001b[0;34m\u001b[0m\u001b[0;34m\u001b[0m\u001b[0m\n\u001b[1;32m     32\u001b[0m         \u001b[0;31m# recursively find maximum subarrays within the left and right subarrays\u001b[0m\u001b[0;34m\u001b[0m\u001b[0;34m\u001b[0m\u001b[0;34m\u001b[0m\u001b[0m\n\u001b[0;32m---> 33\u001b[0;31m         \u001b[0mleft_low\u001b[0m\u001b[0;34m,\u001b[0m \u001b[0mleft_high\u001b[0m\u001b[0;34m,\u001b[0m \u001b[0mleft_sum\u001b[0m \u001b[0;34m=\u001b[0m \u001b[0mfindMaximumSubarray\u001b[0m\u001b[0;34m(\u001b[0m\u001b[0mA\u001b[0m\u001b[0;34m,\u001b[0m \u001b[0mlow\u001b[0m\u001b[0;34m,\u001b[0m \u001b[0mmid\u001b[0m\u001b[0;34m)\u001b[0m\u001b[0;34m\u001b[0m\u001b[0;34m\u001b[0m\u001b[0m\n\u001b[0m\u001b[1;32m     34\u001b[0m         \u001b[0mright_low\u001b[0m\u001b[0;34m,\u001b[0m \u001b[0mright_high\u001b[0m\u001b[0;34m,\u001b[0m \u001b[0mright_sum\u001b[0m \u001b[0;34m=\u001b[0m \u001b[0mfindMaximumSubarray\u001b[0m\u001b[0;34m(\u001b[0m\u001b[0mA\u001b[0m\u001b[0;34m,\u001b[0m \u001b[0mmid\u001b[0m \u001b[0;34m+\u001b[0m \u001b[0;36m1\u001b[0m\u001b[0;34m,\u001b[0m \u001b[0mhigh\u001b[0m\u001b[0;34m)\u001b[0m\u001b[0;34m\u001b[0m\u001b[0;34m\u001b[0m\u001b[0m\n\u001b[1;32m     35\u001b[0m \u001b[0;34m\u001b[0m\u001b[0m\n",
      "\u001b[0;32m/tmp/ipykernel_33148/616503843.py\u001b[0m in \u001b[0;36mfindMaximumSubarray\u001b[0;34m(A, low, high)\u001b[0m\n\u001b[1;32m     31\u001b[0m         \u001b[0mmid\u001b[0m \u001b[0;34m=\u001b[0m \u001b[0;34m(\u001b[0m\u001b[0mlow\u001b[0m\u001b[0;34m+\u001b[0m\u001b[0mhigh\u001b[0m\u001b[0;34m)\u001b[0m \u001b[0;34m//\u001b[0m \u001b[0;36m2\u001b[0m\u001b[0;34m\u001b[0m\u001b[0;34m\u001b[0m\u001b[0m\n\u001b[1;32m     32\u001b[0m         \u001b[0;31m# recursively find maximum subarrays within the left and right subarrays\u001b[0m\u001b[0;34m\u001b[0m\u001b[0;34m\u001b[0m\u001b[0;34m\u001b[0m\u001b[0m\n\u001b[0;32m---> 33\u001b[0;31m         \u001b[0mleft_low\u001b[0m\u001b[0;34m,\u001b[0m \u001b[0mleft_high\u001b[0m\u001b[0;34m,\u001b[0m \u001b[0mleft_sum\u001b[0m \u001b[0;34m=\u001b[0m \u001b[0mfindMaximumSubarray\u001b[0m\u001b[0;34m(\u001b[0m\u001b[0mA\u001b[0m\u001b[0;34m,\u001b[0m \u001b[0mlow\u001b[0m\u001b[0;34m,\u001b[0m \u001b[0mmid\u001b[0m\u001b[0;34m)\u001b[0m\u001b[0;34m\u001b[0m\u001b[0;34m\u001b[0m\u001b[0m\n\u001b[0m\u001b[1;32m     34\u001b[0m         \u001b[0mright_low\u001b[0m\u001b[0;34m,\u001b[0m \u001b[0mright_high\u001b[0m\u001b[0;34m,\u001b[0m \u001b[0mright_sum\u001b[0m \u001b[0;34m=\u001b[0m \u001b[0mfindMaximumSubarray\u001b[0m\u001b[0;34m(\u001b[0m\u001b[0mA\u001b[0m\u001b[0;34m,\u001b[0m \u001b[0mmid\u001b[0m \u001b[0;34m+\u001b[0m \u001b[0;36m1\u001b[0m\u001b[0;34m,\u001b[0m \u001b[0mhigh\u001b[0m\u001b[0;34m)\u001b[0m\u001b[0;34m\u001b[0m\u001b[0;34m\u001b[0m\u001b[0m\n\u001b[1;32m     35\u001b[0m \u001b[0;34m\u001b[0m\u001b[0m\n",
      "\u001b[0;32m/tmp/ipykernel_33148/616503843.py\u001b[0m in \u001b[0;36mfindMaximumSubarray\u001b[0;34m(A, low, high)\u001b[0m\n\u001b[1;32m     31\u001b[0m         \u001b[0mmid\u001b[0m \u001b[0;34m=\u001b[0m \u001b[0;34m(\u001b[0m\u001b[0mlow\u001b[0m\u001b[0;34m+\u001b[0m\u001b[0mhigh\u001b[0m\u001b[0;34m)\u001b[0m \u001b[0;34m//\u001b[0m \u001b[0;36m2\u001b[0m\u001b[0;34m\u001b[0m\u001b[0;34m\u001b[0m\u001b[0m\n\u001b[1;32m     32\u001b[0m         \u001b[0;31m# recursively find maximum subarrays within the left and right subarrays\u001b[0m\u001b[0;34m\u001b[0m\u001b[0;34m\u001b[0m\u001b[0;34m\u001b[0m\u001b[0m\n\u001b[0;32m---> 33\u001b[0;31m         \u001b[0mleft_low\u001b[0m\u001b[0;34m,\u001b[0m \u001b[0mleft_high\u001b[0m\u001b[0;34m,\u001b[0m \u001b[0mleft_sum\u001b[0m \u001b[0;34m=\u001b[0m \u001b[0mfindMaximumSubarray\u001b[0m\u001b[0;34m(\u001b[0m\u001b[0mA\u001b[0m\u001b[0;34m,\u001b[0m \u001b[0mlow\u001b[0m\u001b[0;34m,\u001b[0m \u001b[0mmid\u001b[0m\u001b[0;34m)\u001b[0m\u001b[0;34m\u001b[0m\u001b[0;34m\u001b[0m\u001b[0m\n\u001b[0m\u001b[1;32m     34\u001b[0m         \u001b[0mright_low\u001b[0m\u001b[0;34m,\u001b[0m \u001b[0mright_high\u001b[0m\u001b[0;34m,\u001b[0m \u001b[0mright_sum\u001b[0m \u001b[0;34m=\u001b[0m \u001b[0mfindMaximumSubarray\u001b[0m\u001b[0;34m(\u001b[0m\u001b[0mA\u001b[0m\u001b[0;34m,\u001b[0m \u001b[0mmid\u001b[0m \u001b[0;34m+\u001b[0m \u001b[0;36m1\u001b[0m\u001b[0;34m,\u001b[0m \u001b[0mhigh\u001b[0m\u001b[0;34m)\u001b[0m\u001b[0;34m\u001b[0m\u001b[0;34m\u001b[0m\u001b[0m\n\u001b[1;32m     35\u001b[0m \u001b[0;34m\u001b[0m\u001b[0m\n",
      "\u001b[0;32m/tmp/ipykernel_33148/616503843.py\u001b[0m in \u001b[0;36mfindMaximumSubarray\u001b[0;34m(A, low, high)\u001b[0m\n\u001b[1;32m     31\u001b[0m         \u001b[0mmid\u001b[0m \u001b[0;34m=\u001b[0m \u001b[0;34m(\u001b[0m\u001b[0mlow\u001b[0m\u001b[0;34m+\u001b[0m\u001b[0mhigh\u001b[0m\u001b[0;34m)\u001b[0m \u001b[0;34m//\u001b[0m \u001b[0;36m2\u001b[0m\u001b[0;34m\u001b[0m\u001b[0;34m\u001b[0m\u001b[0m\n\u001b[1;32m     32\u001b[0m         \u001b[0;31m# recursively find maximum subarrays within the left and right subarrays\u001b[0m\u001b[0;34m\u001b[0m\u001b[0;34m\u001b[0m\u001b[0;34m\u001b[0m\u001b[0m\n\u001b[0;32m---> 33\u001b[0;31m         \u001b[0mleft_low\u001b[0m\u001b[0;34m,\u001b[0m \u001b[0mleft_high\u001b[0m\u001b[0;34m,\u001b[0m \u001b[0mleft_sum\u001b[0m \u001b[0;34m=\u001b[0m \u001b[0mfindMaximumSubarray\u001b[0m\u001b[0;34m(\u001b[0m\u001b[0mA\u001b[0m\u001b[0;34m,\u001b[0m \u001b[0mlow\u001b[0m\u001b[0;34m,\u001b[0m \u001b[0mmid\u001b[0m\u001b[0;34m)\u001b[0m\u001b[0;34m\u001b[0m\u001b[0;34m\u001b[0m\u001b[0m\n\u001b[0m\u001b[1;32m     34\u001b[0m         \u001b[0mright_low\u001b[0m\u001b[0;34m,\u001b[0m \u001b[0mright_high\u001b[0m\u001b[0;34m,\u001b[0m \u001b[0mright_sum\u001b[0m \u001b[0;34m=\u001b[0m \u001b[0mfindMaximumSubarray\u001b[0m\u001b[0;34m(\u001b[0m\u001b[0mA\u001b[0m\u001b[0;34m,\u001b[0m \u001b[0mmid\u001b[0m \u001b[0;34m+\u001b[0m \u001b[0;36m1\u001b[0m\u001b[0;34m,\u001b[0m \u001b[0mhigh\u001b[0m\u001b[0;34m)\u001b[0m\u001b[0;34m\u001b[0m\u001b[0;34m\u001b[0m\u001b[0m\n\u001b[1;32m     35\u001b[0m \u001b[0;34m\u001b[0m\u001b[0m\n",
      "\u001b[0;31mTypeError\u001b[0m: cannot unpack non-iterable int object"
     ]
    }
   ],
   "source": [
    "A = [13, -3, -25, 20, -3, -16, -23, 18, 20, -7, 12, -5, -22, 15, -4, 7]\n",
    "# A = [13, -3, -25, 20]\n",
    "low = 0\n",
    "high = len(A) - 1\n",
    "mid = int(high / 2)\n",
    "# findMaxCrossingSubarray(A, low, mid, high)\n",
    "\n",
    "print(A)\n",
    "findMaximumSubarray(A, low, high)\n"
   ]
  }
 ],
 "metadata": {
  "kernelspec": {
   "display_name": "Python 3.8.10 64-bit",
   "language": "python",
   "name": "python3"
  },
  "language_info": {
   "codemirror_mode": {
    "name": "ipython",
    "version": 3
   },
   "file_extension": ".py",
   "mimetype": "text/x-python",
   "name": "python",
   "nbconvert_exporter": "python",
   "pygments_lexer": "ipython3",
   "version": "3.8.10"
  },
  "orig_nbformat": 4,
  "vscode": {
   "interpreter": {
    "hash": "31f2aee4e71d21fbe5cf8b01ff0e069b9275f58929596ceb00d14d90e3e16cd6"
   }
  }
 },
 "nbformat": 4,
 "nbformat_minor": 2
}
